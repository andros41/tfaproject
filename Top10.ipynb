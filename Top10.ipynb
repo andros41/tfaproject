{
 "cells": [
  {
   "cell_type": "code",
   "execution_count": 1,
   "id": "950d30a0-87a2-46c2-bfb4-724d2bd23658",
   "metadata": {},
   "outputs": [
    {
     "name": "stderr",
     "output_type": "stream",
     "text": [
      "/Users/andyhrosman/opt/anaconda3/lib/python3.8/site-packages/IPython/core/interactiveshell.py:3165: DtypeWarning: Columns (20,31,32) have mixed types.Specify dtype option on import or set low_memory=False.\n",
      "  has_raised = await self.run_ast_nodes(code_ast.body, cell_name,\n"
     ]
    }
   ],
   "source": [
    "import pandas as pd\n",
    "\n",
    "df = pd.read_csv('311_Service_Requests_2020.csv')                   # import csv file\n",
    "df2 = df[df['Incident Zip'] == 10027]                               # filter dataframe by zipcode\n",
    "incident = df2['Complaint Type']                                    # unpack pandas series from dataframe\n",
    "incident_count = incident.value_counts()                            # count number of incidents for each type\n",
    "top10 = incident_count.sort_values(ascending = False).head(10)      # sort and filter top 10 by number of incidents"
   ]
  },
  {
   "cell_type": "code",
   "execution_count": null,
   "id": "21292406-b123-4066-bd7b-23cad732b804",
   "metadata": {},
   "outputs": [],
   "source": []
  }
 ],
 "metadata": {
  "kernelspec": {
   "display_name": "Python 3",
   "language": "python",
   "name": "python3"
  },
  "language_info": {
   "codemirror_mode": {
    "name": "ipython",
    "version": 3
   },
   "file_extension": ".py",
   "mimetype": "text/x-python",
   "name": "python",
   "nbconvert_exporter": "python",
   "pygments_lexer": "ipython3",
   "version": "3.8.8"
  }
 },
 "nbformat": 4,
 "nbformat_minor": 5
}
