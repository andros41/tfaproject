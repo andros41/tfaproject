{
 "cells": [
  {
   "cell_type": "code",
   "execution_count": 38,
   "id": "4c554050",
   "metadata": {},
   "outputs": [
    {
     "name": "stdout",
     "output_type": "stream",
     "text": [
      "0.07487334365033108\n",
      "0.05207265952491849\n",
      "False\n"
     ]
    }
   ],
   "source": [
    "import pandas as pd\n",
    "\n",
    "df = pd.read_csv(\"/Users/charliekanter/Downloads/311_Service_Requests_2020.csv\") #Read file into pandas dataframe\n",
    "num_incidents_total = len(df)                                                    #Count total number of incidents\n",
    "num_parking_total = len(df[df['Complaint Type'] == 'Illegal Parking'])           #Count total number of illegal parking incidents\n",
    "\n",
    "\n",
    "df_zip = df[df['Incident Zip'] == 10027]                                     #Filter dataframe by zipcode 10027\n",
    "num_incidents_zip = len(df_zip)                                              #Count total number of incidents in zip 10027\n",
    "num_parking_zip = len(df_zip[df_zip['Complaint Type'] == 'Illegal Parking']) #Count total number of illegal parking\n",
    "                                                                             # incidents in zip 10027\n",
    "    \n",
    "total_park_ratio = num_parking_total / num_incidents_total            #Calculate proportion of parking incidents in total\n",
    "zip_park_ratio = num_parking_zip / num_incidents_zip                  #Calculate proportion of parking incidents in zip 10027\n",
    "\n",
    "higher_parking_proportion = zip_park_ratio > total_park_ratio"
   ]
  },
  {
   "cell_type": "code",
   "execution_count": null,
   "id": "6c7d2466",
   "metadata": {},
   "outputs": [],
   "source": []
  }
 ],
 "metadata": {
  "kernelspec": {
   "display_name": "Python 3 (ipykernel)",
   "language": "python",
   "name": "python3"
  },
  "language_info": {
   "codemirror_mode": {
    "name": "ipython",
    "version": 3
   },
   "file_extension": ".py",
   "mimetype": "text/x-python",
   "name": "python",
   "nbconvert_exporter": "python",
   "pygments_lexer": "ipython3",
   "version": "3.8.11"
  }
 },
 "nbformat": 4,
 "nbformat_minor": 5
}
